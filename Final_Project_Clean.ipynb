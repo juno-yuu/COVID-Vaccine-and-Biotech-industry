{
  "nbformat": 4,
  "nbformat_minor": 0,
  "metadata": {
    "colab": {
      "name": "Final_Project_Clean.ipynb",
      "provenance": [],
      "authorship_tag": "ABX9TyPbHAo3YZUclMi0APdpgDW0",
      "include_colab_link": true
    },
    "kernelspec": {
      "name": "python3",
      "display_name": "Python 3"
    },
    "language_info": {
      "name": "python"
    }
  },
  "cells": [
    {
      "cell_type": "markdown",
      "metadata": {
        "id": "view-in-github",
        "colab_type": "text"
      },
      "source": [
        "<a href=\"https://colab.research.google.com/github/juno-yuu/COVID-Vaccine-and-Biotech-industry/blob/Erin/Final_Project_Clean.ipynb\" target=\"_parent\"><img src=\"https://colab.research.google.com/assets/colab-badge.svg\" alt=\"Open In Colab\"/></a>"
      ]
    },
    {
      "cell_type": "markdown",
      "metadata": {
        "id": "2C7o6F-i_bgx"
      },
      "source": [
        "### Github"
      ]
    },
    {
      "cell_type": "code",
      "metadata": {
        "id": "RMiCl-Hg3_m8"
      },
      "source": [
        "#!git clone https://github.com/juno-yuu/COVID-Vaccine-and-Biotech-industry.git"
      ],
      "execution_count": 86,
      "outputs": []
    },
    {
      "cell_type": "markdown",
      "metadata": {
        "id": "3CgdWy7k_UBV"
      },
      "source": [
        "### Imports"
      ]
    },
    {
      "cell_type": "code",
      "metadata": {
        "id": "YiM1KbMp4Ix0"
      },
      "source": [
        "import warnings\n",
        "warnings.filterwarnings('ignore')\n",
        "import requests\n",
        "import io\n",
        "import pandas.util.testing as tm\n",
        "import pandas as pd\n",
        "import numpy as np\n",
        "import matplotlib.pyplot as plt\n",
        "import seaborn as sns\n",
        "import statsmodels.api as sm"
      ],
      "execution_count": 87,
      "outputs": []
    },
    {
      "cell_type": "markdown",
      "metadata": {
        "id": "maGhhspl_LJE"
      },
      "source": [
        "### Read Datasets"
      ]
    },
    {
      "cell_type": "code",
      "metadata": {
        "id": "kNqZBKCL7AWG"
      },
      "source": [
        "# vaccination dataset\n",
        "# vacci = pd.read_csv(\"/content/COVID-Vaccine-and-Biotech-industry/us_state_vaccinations.csv\", index_col = 0)\n",
        "vacci = pd.read_csv('https://raw.githubusercontent.com/juno-yuu/COVID-Vaccine-and-Biotech-industry/main/us_state_vaccinations.csv', index_col = 0)\n",
        "\n",
        "# # comfirmed\n",
        "# case_confirmed = pd.read_csv(\"/content/COVID-Vaccine-and-Biotech-industry/time_series_covid19_confirmed_US.csv\")\n",
        "\n",
        "# # death\n",
        "# case_death = pd.read_csv(\"/content/COVID-Vaccine-and-Biotech-industry/time_series_covid19_deaths_US.csv\")\n",
        "\n",
        "# # latest data\n",
        "# update = pd.read_csv(\"/content/COVID-Vaccine-and-Biotech-industry/05-26-2021_us.csv\")\n",
        "\n",
        "# manufacture daily\n",
        "# download = requests.get('https://raw.githubusercontent.com/xinyanz-erin/covid-19-data/master/public/data/vaccinations/vaccinations-by-manufacturer.csv').content\n",
        "# manu = pd.read_csv(io.StringIO(download.decode('utf-8')))\n",
        "manu = pd.read_csv(\"https://raw.githubusercontent.com/xinyanz-erin/covid-19-data/master/public/data/vaccinations/vaccinations-by-manufacturer.csv\", index_col = 1)"
      ],
      "execution_count": 88,
      "outputs": []
    },
    {
      "cell_type": "markdown",
      "metadata": {
        "id": "jZN1ERuG_Nr6"
      },
      "source": [
        "### Check datasets"
      ]
    },
    {
      "cell_type": "code",
      "metadata": {
        "colab": {
          "base_uri": "https://localhost:8080/",
          "height": 340
        },
        "id": "B3CQADRy7yzJ",
        "outputId": "dd53cac0-c5a2-4644-d996-fe56748cfcf5"
      },
      "source": [
        "vacci.head()"
      ],
      "execution_count": 89,
      "outputs": [
        {
          "output_type": "execute_result",
          "data": {
            "text/html": [
              "<div>\n",
              "<style scoped>\n",
              "    .dataframe tbody tr th:only-of-type {\n",
              "        vertical-align: middle;\n",
              "    }\n",
              "\n",
              "    .dataframe tbody tr th {\n",
              "        vertical-align: top;\n",
              "    }\n",
              "\n",
              "    .dataframe thead th {\n",
              "        text-align: right;\n",
              "    }\n",
              "</style>\n",
              "<table border=\"1\" class=\"dataframe\">\n",
              "  <thead>\n",
              "    <tr style=\"text-align: right;\">\n",
              "      <th></th>\n",
              "      <th>location</th>\n",
              "      <th>total_vaccinations</th>\n",
              "      <th>total_distributed</th>\n",
              "      <th>people_vaccinated</th>\n",
              "      <th>people_fully_vaccinated_per_hundred</th>\n",
              "      <th>total_vaccinations_per_hundred</th>\n",
              "      <th>people_fully_vaccinated</th>\n",
              "      <th>people_vaccinated_per_hundred</th>\n",
              "      <th>distributed_per_hundred</th>\n",
              "      <th>daily_vaccinations_raw</th>\n",
              "      <th>daily_vaccinations</th>\n",
              "      <th>daily_vaccinations_per_million</th>\n",
              "      <th>share_doses_used</th>\n",
              "    </tr>\n",
              "    <tr>\n",
              "      <th>date</th>\n",
              "      <th></th>\n",
              "      <th></th>\n",
              "      <th></th>\n",
              "      <th></th>\n",
              "      <th></th>\n",
              "      <th></th>\n",
              "      <th></th>\n",
              "      <th></th>\n",
              "      <th></th>\n",
              "      <th></th>\n",
              "      <th></th>\n",
              "      <th></th>\n",
              "      <th></th>\n",
              "    </tr>\n",
              "  </thead>\n",
              "  <tbody>\n",
              "    <tr>\n",
              "      <th>2021-01-12</th>\n",
              "      <td>Alabama</td>\n",
              "      <td>78134.0</td>\n",
              "      <td>377025.0</td>\n",
              "      <td>70861.0</td>\n",
              "      <td>0.15</td>\n",
              "      <td>1.59</td>\n",
              "      <td>7270.0</td>\n",
              "      <td>1.45</td>\n",
              "      <td>7.69</td>\n",
              "      <td>NaN</td>\n",
              "      <td>NaN</td>\n",
              "      <td>NaN</td>\n",
              "      <td>0.207</td>\n",
              "    </tr>\n",
              "    <tr>\n",
              "      <th>2021-01-13</th>\n",
              "      <td>Alabama</td>\n",
              "      <td>84040.0</td>\n",
              "      <td>378975.0</td>\n",
              "      <td>74792.0</td>\n",
              "      <td>0.19</td>\n",
              "      <td>1.71</td>\n",
              "      <td>9245.0</td>\n",
              "      <td>1.53</td>\n",
              "      <td>7.73</td>\n",
              "      <td>5906.0</td>\n",
              "      <td>5906.0</td>\n",
              "      <td>1205.0</td>\n",
              "      <td>0.222</td>\n",
              "    </tr>\n",
              "    <tr>\n",
              "      <th>2021-01-14</th>\n",
              "      <td>Alabama</td>\n",
              "      <td>92300.0</td>\n",
              "      <td>435350.0</td>\n",
              "      <td>80480.0</td>\n",
              "      <td>NaN</td>\n",
              "      <td>1.88</td>\n",
              "      <td>NaN</td>\n",
              "      <td>1.64</td>\n",
              "      <td>8.88</td>\n",
              "      <td>8260.0</td>\n",
              "      <td>7083.0</td>\n",
              "      <td>1445.0</td>\n",
              "      <td>0.212</td>\n",
              "    </tr>\n",
              "    <tr>\n",
              "      <th>2021-01-15</th>\n",
              "      <td>Alabama</td>\n",
              "      <td>100567.0</td>\n",
              "      <td>444650.0</td>\n",
              "      <td>86956.0</td>\n",
              "      <td>0.28</td>\n",
              "      <td>2.05</td>\n",
              "      <td>13488.0</td>\n",
              "      <td>1.77</td>\n",
              "      <td>9.07</td>\n",
              "      <td>8267.0</td>\n",
              "      <td>7478.0</td>\n",
              "      <td>1525.0</td>\n",
              "      <td>0.226</td>\n",
              "    </tr>\n",
              "    <tr>\n",
              "      <th>2021-01-16</th>\n",
              "      <td>Alabama</td>\n",
              "      <td>NaN</td>\n",
              "      <td>NaN</td>\n",
              "      <td>NaN</td>\n",
              "      <td>NaN</td>\n",
              "      <td>NaN</td>\n",
              "      <td>NaN</td>\n",
              "      <td>NaN</td>\n",
              "      <td>NaN</td>\n",
              "      <td>7557.0</td>\n",
              "      <td>7498.0</td>\n",
              "      <td>1529.0</td>\n",
              "      <td>NaN</td>\n",
              "    </tr>\n",
              "  </tbody>\n",
              "</table>\n",
              "</div>"
            ],
            "text/plain": [
              "           location  ...  share_doses_used\n",
              "date                 ...                  \n",
              "2021-01-12  Alabama  ...             0.207\n",
              "2021-01-13  Alabama  ...             0.222\n",
              "2021-01-14  Alabama  ...             0.212\n",
              "2021-01-15  Alabama  ...             0.226\n",
              "2021-01-16  Alabama  ...               NaN\n",
              "\n",
              "[5 rows x 13 columns]"
            ]
          },
          "metadata": {
            "tags": []
          },
          "execution_count": 89
        }
      ]
    },
    {
      "cell_type": "code",
      "metadata": {
        "id": "Y50zU0Ka7z73"
      },
      "source": [
        "# case_confirmed.head()"
      ],
      "execution_count": 90,
      "outputs": []
    },
    {
      "cell_type": "code",
      "metadata": {
        "id": "_sA0cpO871aG"
      },
      "source": [
        "# case_death.head()"
      ],
      "execution_count": 91,
      "outputs": []
    },
    {
      "cell_type": "code",
      "metadata": {
        "id": "Fk1UbQd_75E0"
      },
      "source": [
        "# update.head()"
      ],
      "execution_count": 92,
      "outputs": []
    },
    {
      "cell_type": "code",
      "metadata": {
        "colab": {
          "base_uri": "https://localhost:8080/",
          "height": 235
        },
        "id": "3qmjwgh7Dkky",
        "outputId": "5bb5898e-e7c0-4a32-8f33-b9567a23a1ba"
      },
      "source": [
        "manu.head()"
      ],
      "execution_count": 93,
      "outputs": [
        {
          "output_type": "execute_result",
          "data": {
            "text/html": [
              "<div>\n",
              "<style scoped>\n",
              "    .dataframe tbody tr th:only-of-type {\n",
              "        vertical-align: middle;\n",
              "    }\n",
              "\n",
              "    .dataframe tbody tr th {\n",
              "        vertical-align: top;\n",
              "    }\n",
              "\n",
              "    .dataframe thead th {\n",
              "        text-align: right;\n",
              "    }\n",
              "</style>\n",
              "<table border=\"1\" class=\"dataframe\">\n",
              "  <thead>\n",
              "    <tr style=\"text-align: right;\">\n",
              "      <th></th>\n",
              "      <th>location</th>\n",
              "      <th>vaccine</th>\n",
              "      <th>total_vaccinations</th>\n",
              "    </tr>\n",
              "    <tr>\n",
              "      <th>date</th>\n",
              "      <th></th>\n",
              "      <th></th>\n",
              "      <th></th>\n",
              "    </tr>\n",
              "  </thead>\n",
              "  <tbody>\n",
              "    <tr>\n",
              "      <th>2020-12-24</th>\n",
              "      <td>Chile</td>\n",
              "      <td>Pfizer/BioNTech</td>\n",
              "      <td>420</td>\n",
              "    </tr>\n",
              "    <tr>\n",
              "      <th>2020-12-25</th>\n",
              "      <td>Chile</td>\n",
              "      <td>Pfizer/BioNTech</td>\n",
              "      <td>5198</td>\n",
              "    </tr>\n",
              "    <tr>\n",
              "      <th>2020-12-26</th>\n",
              "      <td>Chile</td>\n",
              "      <td>Pfizer/BioNTech</td>\n",
              "      <td>8338</td>\n",
              "    </tr>\n",
              "    <tr>\n",
              "      <th>2020-12-27</th>\n",
              "      <td>Chile</td>\n",
              "      <td>Pfizer/BioNTech</td>\n",
              "      <td>8649</td>\n",
              "    </tr>\n",
              "    <tr>\n",
              "      <th>2020-12-28</th>\n",
              "      <td>Chile</td>\n",
              "      <td>Pfizer/BioNTech</td>\n",
              "      <td>8649</td>\n",
              "    </tr>\n",
              "  </tbody>\n",
              "</table>\n",
              "</div>"
            ],
            "text/plain": [
              "           location          vaccine  total_vaccinations\n",
              "date                                                    \n",
              "2020-12-24    Chile  Pfizer/BioNTech                 420\n",
              "2020-12-25    Chile  Pfizer/BioNTech                5198\n",
              "2020-12-26    Chile  Pfizer/BioNTech                8338\n",
              "2020-12-27    Chile  Pfizer/BioNTech                8649\n",
              "2020-12-28    Chile  Pfizer/BioNTech                8649"
            ]
          },
          "metadata": {
            "tags": []
          },
          "execution_count": 93
        }
      ]
    },
    {
      "cell_type": "markdown",
      "metadata": {
        "id": "-Pr8ATq7Ag-n"
      },
      "source": [
        "### Data Cleaning and Combining"
      ]
    },
    {
      "cell_type": "code",
      "metadata": {
        "colab": {
          "base_uri": "https://localhost:8080/"
        },
        "id": "y1eAHHOtGbf1",
        "outputId": "3b8a9cbf-6161-4338-9713-21cb25486aa7"
      },
      "source": [
        "manu.location.unique()\n",
        "manu.vaccine.unique()"
      ],
      "execution_count": 94,
      "outputs": [
        {
          "output_type": "execute_result",
          "data": {
            "text/plain": [
              "array(['Pfizer/BioNTech', 'Sinovac', 'Oxford/AstraZeneca', 'Moderna',\n",
              "       'Johnson&Johnson'], dtype=object)"
            ]
          },
          "metadata": {
            "tags": []
          },
          "execution_count": 94
        }
      ]
    },
    {
      "cell_type": "code",
      "metadata": {
        "colab": {
          "base_uri": "https://localhost:8080/"
        },
        "id": "HFU8jOatAlY_",
        "outputId": "e3f2909c-66e8-459d-c95f-d5ef6d433db3"
      },
      "source": [
        "Pf_manu = manu.loc[manu.vaccine == 'Pfizer/BioNTech']\n",
        "Pf_manu = Pf_manu.loc[Pf_manu.location == 'United States', ['vaccine', 'total_vaccinations']]\n",
        "print(Pf_manu.head())\n",
        "\n",
        "Mod_manu = manu.loc[manu.vaccine == 'Moderna']\n",
        "Mod_manu = Mod_manu.loc[Mod_manu.location == 'United States', ['vaccine', 'total_vaccinations']]\n",
        "print(Pf_manu.head())\n",
        "\n",
        "JJ_manu = manu.loc[manu.vaccine == 'Johnson&Johnson']\n",
        "JJ_manu = JJ_manu.loc[JJ_manu.location == 'United States', ['vaccine', 'total_vaccinations']]\n",
        "print(Pf_manu.head())"
      ],
      "execution_count": 95,
      "outputs": [
        {
          "output_type": "stream",
          "text": [
            "                    vaccine  total_vaccinations\n",
            "date                                           \n",
            "2021-01-12  Pfizer/BioNTech             5488697\n",
            "2021-01-13  Pfizer/BioNTech             6025872\n",
            "2021-01-15  Pfizer/BioNTech             7153268\n",
            "2021-01-19  Pfizer/BioNTech             8874811\n",
            "2021-01-20  Pfizer/BioNTech             9281063\n",
            "                    vaccine  total_vaccinations\n",
            "date                                           \n",
            "2021-01-12  Pfizer/BioNTech             5488697\n",
            "2021-01-13  Pfizer/BioNTech             6025872\n",
            "2021-01-15  Pfizer/BioNTech             7153268\n",
            "2021-01-19  Pfizer/BioNTech             8874811\n",
            "2021-01-20  Pfizer/BioNTech             9281063\n",
            "                    vaccine  total_vaccinations\n",
            "date                                           \n",
            "2021-01-12  Pfizer/BioNTech             5488697\n",
            "2021-01-13  Pfizer/BioNTech             6025872\n",
            "2021-01-15  Pfizer/BioNTech             7153268\n",
            "2021-01-19  Pfizer/BioNTech             8874811\n",
            "2021-01-20  Pfizer/BioNTech             9281063\n"
          ],
          "name": "stdout"
        }
      ]
    },
    {
      "cell_type": "code",
      "metadata": {
        "colab": {
          "base_uri": "https://localhost:8080/",
          "height": 340
        },
        "id": "oJZ7DC2GNlur",
        "outputId": "3c54a386-fa04-424e-d828-d5b68db65112"
      },
      "source": [
        "# keep stats level data\n",
        "vacci = vacci[vacci.location != 'United States']\n",
        "vacci_us = vacci.groupby('date').sum()\n",
        "vacci_us.head()"
      ],
      "execution_count": 96,
      "outputs": [
        {
          "output_type": "execute_result",
          "data": {
            "text/html": [
              "<div>\n",
              "<style scoped>\n",
              "    .dataframe tbody tr th:only-of-type {\n",
              "        vertical-align: middle;\n",
              "    }\n",
              "\n",
              "    .dataframe tbody tr th {\n",
              "        vertical-align: top;\n",
              "    }\n",
              "\n",
              "    .dataframe thead th {\n",
              "        text-align: right;\n",
              "    }\n",
              "</style>\n",
              "<table border=\"1\" class=\"dataframe\">\n",
              "  <thead>\n",
              "    <tr style=\"text-align: right;\">\n",
              "      <th></th>\n",
              "      <th>total_vaccinations</th>\n",
              "      <th>total_distributed</th>\n",
              "      <th>people_vaccinated</th>\n",
              "      <th>people_fully_vaccinated_per_hundred</th>\n",
              "      <th>total_vaccinations_per_hundred</th>\n",
              "      <th>people_fully_vaccinated</th>\n",
              "      <th>people_vaccinated_per_hundred</th>\n",
              "      <th>distributed_per_hundred</th>\n",
              "      <th>daily_vaccinations_raw</th>\n",
              "      <th>daily_vaccinations</th>\n",
              "      <th>daily_vaccinations_per_million</th>\n",
              "      <th>share_doses_used</th>\n",
              "    </tr>\n",
              "    <tr>\n",
              "      <th>date</th>\n",
              "      <th></th>\n",
              "      <th></th>\n",
              "      <th></th>\n",
              "      <th></th>\n",
              "      <th></th>\n",
              "      <th></th>\n",
              "      <th></th>\n",
              "      <th></th>\n",
              "      <th></th>\n",
              "      <th></th>\n",
              "      <th></th>\n",
              "      <th></th>\n",
              "    </tr>\n",
              "  </thead>\n",
              "  <tbody>\n",
              "    <tr>\n",
              "      <th>2021-01-12</th>\n",
              "      <td>10278912.0</td>\n",
              "      <td>32081325.0</td>\n",
              "      <td>8347766.0</td>\n",
              "      <td>14.16</td>\n",
              "      <td>174.26</td>\n",
              "      <td>784657.0</td>\n",
              "      <td>114.74</td>\n",
              "      <td>573.67</td>\n",
              "      <td>0.0</td>\n",
              "      <td>0.0</td>\n",
              "      <td>0.0</td>\n",
              "      <td>22.063</td>\n",
              "    </tr>\n",
              "    <tr>\n",
              "      <th>2021-01-13</th>\n",
              "      <td>11362639.0</td>\n",
              "      <td>33936700.0</td>\n",
              "      <td>9082123.0</td>\n",
              "      <td>18.95</td>\n",
              "      <td>193.37</td>\n",
              "      <td>1037160.0</td>\n",
              "      <td>126.40</td>\n",
              "      <td>610.84</td>\n",
              "      <td>1083727.0</td>\n",
              "      <td>1083727.0</td>\n",
              "      <td>191029.0</td>\n",
              "      <td>22.508</td>\n",
              "    </tr>\n",
              "    <tr>\n",
              "      <th>2021-01-14</th>\n",
              "      <td>12374484.0</td>\n",
              "      <td>35343775.0</td>\n",
              "      <td>10886077.0</td>\n",
              "      <td>0.00</td>\n",
              "      <td>209.66</td>\n",
              "      <td>0.0</td>\n",
              "      <td>178.06</td>\n",
              "      <td>624.62</td>\n",
              "      <td>1011845.0</td>\n",
              "      <td>1047786.0</td>\n",
              "      <td>176936.0</td>\n",
              "      <td>23.766</td>\n",
              "    </tr>\n",
              "    <tr>\n",
              "      <th>2021-01-15</th>\n",
              "      <td>13664143.0</td>\n",
              "      <td>31161075.0</td>\n",
              "      <td>10595866.0</td>\n",
              "      <td>31.93</td>\n",
              "      <td>231.50</td>\n",
              "      <td>1610524.0</td>\n",
              "      <td>198.42</td>\n",
              "      <td>650.16</td>\n",
              "      <td>1289659.0</td>\n",
              "      <td>1128409.0</td>\n",
              "      <td>190744.0</td>\n",
              "      <td>24.954</td>\n",
              "    </tr>\n",
              "    <tr>\n",
              "      <th>2021-01-16</th>\n",
              "      <td>0.0</td>\n",
              "      <td>0.0</td>\n",
              "      <td>0.0</td>\n",
              "      <td>0.00</td>\n",
              "      <td>0.00</td>\n",
              "      <td>0.0</td>\n",
              "      <td>0.00</td>\n",
              "      <td>0.00</td>\n",
              "      <td>947221.5</td>\n",
              "      <td>1083109.0</td>\n",
              "      <td>182231.0</td>\n",
              "      <td>0.000</td>\n",
              "    </tr>\n",
              "  </tbody>\n",
              "</table>\n",
              "</div>"
            ],
            "text/plain": [
              "            total_vaccinations  ...  share_doses_used\n",
              "date                            ...                  \n",
              "2021-01-12          10278912.0  ...            22.063\n",
              "2021-01-13          11362639.0  ...            22.508\n",
              "2021-01-14          12374484.0  ...            23.766\n",
              "2021-01-15          13664143.0  ...            24.954\n",
              "2021-01-16                 0.0  ...             0.000\n",
              "\n",
              "[5 rows x 12 columns]"
            ]
          },
          "metadata": {
            "tags": []
          },
          "execution_count": 96
        }
      ]
    },
    {
      "cell_type": "code",
      "metadata": {
        "colab": {
          "base_uri": "https://localhost:8080/",
          "height": 580
        },
        "id": "y0c6U9hWHSj8",
        "outputId": "a8d20241-930c-4dc6-ce0a-edb88fa01652"
      },
      "source": [
        "Pf_manu_vacci = Pf_manu.join(vacci_us, how = 'left', lsuffix = '_manu', rsuffix = '_vacci')\n",
        "Pf_manu_vacci.head(10)"
      ],
      "execution_count": 97,
      "outputs": [
        {
          "output_type": "execute_result",
          "data": {
            "text/html": [
              "<div>\n",
              "<style scoped>\n",
              "    .dataframe tbody tr th:only-of-type {\n",
              "        vertical-align: middle;\n",
              "    }\n",
              "\n",
              "    .dataframe tbody tr th {\n",
              "        vertical-align: top;\n",
              "    }\n",
              "\n",
              "    .dataframe thead th {\n",
              "        text-align: right;\n",
              "    }\n",
              "</style>\n",
              "<table border=\"1\" class=\"dataframe\">\n",
              "  <thead>\n",
              "    <tr style=\"text-align: right;\">\n",
              "      <th></th>\n",
              "      <th>vaccine</th>\n",
              "      <th>total_vaccinations_manu</th>\n",
              "      <th>total_vaccinations_vacci</th>\n",
              "      <th>total_distributed</th>\n",
              "      <th>people_vaccinated</th>\n",
              "      <th>people_fully_vaccinated_per_hundred</th>\n",
              "      <th>total_vaccinations_per_hundred</th>\n",
              "      <th>people_fully_vaccinated</th>\n",
              "      <th>people_vaccinated_per_hundred</th>\n",
              "      <th>distributed_per_hundred</th>\n",
              "      <th>daily_vaccinations_raw</th>\n",
              "      <th>daily_vaccinations</th>\n",
              "      <th>daily_vaccinations_per_million</th>\n",
              "      <th>share_doses_used</th>\n",
              "    </tr>\n",
              "    <tr>\n",
              "      <th>date</th>\n",
              "      <th></th>\n",
              "      <th></th>\n",
              "      <th></th>\n",
              "      <th></th>\n",
              "      <th></th>\n",
              "      <th></th>\n",
              "      <th></th>\n",
              "      <th></th>\n",
              "      <th></th>\n",
              "      <th></th>\n",
              "      <th></th>\n",
              "      <th></th>\n",
              "      <th></th>\n",
              "      <th></th>\n",
              "    </tr>\n",
              "  </thead>\n",
              "  <tbody>\n",
              "    <tr>\n",
              "      <th>2021-01-12</th>\n",
              "      <td>Pfizer/BioNTech</td>\n",
              "      <td>5488697</td>\n",
              "      <td>10278912.0</td>\n",
              "      <td>32081325.0</td>\n",
              "      <td>8347766.0</td>\n",
              "      <td>14.16</td>\n",
              "      <td>174.26</td>\n",
              "      <td>784657.0</td>\n",
              "      <td>114.74</td>\n",
              "      <td>573.67</td>\n",
              "      <td>0.0</td>\n",
              "      <td>0.0</td>\n",
              "      <td>0.0</td>\n",
              "      <td>22.063</td>\n",
              "    </tr>\n",
              "    <tr>\n",
              "      <th>2021-01-13</th>\n",
              "      <td>Pfizer/BioNTech</td>\n",
              "      <td>6025872</td>\n",
              "      <td>11362639.0</td>\n",
              "      <td>33936700.0</td>\n",
              "      <td>9082123.0</td>\n",
              "      <td>18.95</td>\n",
              "      <td>193.37</td>\n",
              "      <td>1037160.0</td>\n",
              "      <td>126.40</td>\n",
              "      <td>610.84</td>\n",
              "      <td>1083727.0</td>\n",
              "      <td>1083727.0</td>\n",
              "      <td>191029.0</td>\n",
              "      <td>22.508</td>\n",
              "    </tr>\n",
              "    <tr>\n",
              "      <th>2021-01-15</th>\n",
              "      <td>Pfizer/BioNTech</td>\n",
              "      <td>7153268</td>\n",
              "      <td>13664143.0</td>\n",
              "      <td>31161075.0</td>\n",
              "      <td>10595866.0</td>\n",
              "      <td>31.93</td>\n",
              "      <td>231.50</td>\n",
              "      <td>1610524.0</td>\n",
              "      <td>198.42</td>\n",
              "      <td>650.16</td>\n",
              "      <td>1289659.0</td>\n",
              "      <td>1128409.0</td>\n",
              "      <td>190744.0</td>\n",
              "      <td>24.954</td>\n",
              "    </tr>\n",
              "    <tr>\n",
              "      <th>2021-01-19</th>\n",
              "      <td>Pfizer/BioNTech</td>\n",
              "      <td>8874811</td>\n",
              "      <td>17453029.0</td>\n",
              "      <td>31161075.0</td>\n",
              "      <td>13595803.0</td>\n",
              "      <td>39.95</td>\n",
              "      <td>294.24</td>\n",
              "      <td>2023124.0</td>\n",
              "      <td>252.75</td>\n",
              "      <td>650.16</td>\n",
              "      <td>947221.5</td>\n",
              "      <td>1024875.0</td>\n",
              "      <td>171345.0</td>\n",
              "      <td>31.303</td>\n",
              "    </tr>\n",
              "    <tr>\n",
              "      <th>2021-01-20</th>\n",
              "      <td>Pfizer/BioNTech</td>\n",
              "      <td>9281063</td>\n",
              "      <td>18433513.0</td>\n",
              "      <td>35990150.0</td>\n",
              "      <td>14270417.0</td>\n",
              "      <td>43.04</td>\n",
              "      <td>309.90</td>\n",
              "      <td>2161419.0</td>\n",
              "      <td>265.22</td>\n",
              "      <td>716.83</td>\n",
              "      <td>980484.0</td>\n",
              "      <td>1010126.0</td>\n",
              "      <td>166520.0</td>\n",
              "      <td>28.830</td>\n",
              "    </tr>\n",
              "    <tr>\n",
              "      <th>2021-01-21</th>\n",
              "      <td>Pfizer/BioNTech</td>\n",
              "      <td>9817027</td>\n",
              "      <td>19635555.0</td>\n",
              "      <td>37960000.0</td>\n",
              "      <td>15053257.0</td>\n",
              "      <td>48.18</td>\n",
              "      <td>330.89</td>\n",
              "      <td>2394961.0</td>\n",
              "      <td>281.05</td>\n",
              "      <td>748.19</td>\n",
              "      <td>1202042.0</td>\n",
              "      <td>1037298.0</td>\n",
              "      <td>173267.0</td>\n",
              "      <td>29.246</td>\n",
              "    </tr>\n",
              "    <tr>\n",
              "      <th>2021-01-22</th>\n",
              "      <td>Pfizer/BioNTech</td>\n",
              "      <td>10695066</td>\n",
              "      <td>21397243.0</td>\n",
              "      <td>39892400.0</td>\n",
              "      <td>16243093.0</td>\n",
              "      <td>55.35</td>\n",
              "      <td>359.79</td>\n",
              "      <td>2756953.0</td>\n",
              "      <td>302.55</td>\n",
              "      <td>774.72</td>\n",
              "      <td>1761688.0</td>\n",
              "      <td>1104734.0</td>\n",
              "      <td>183333.0</td>\n",
              "      <td>30.468</td>\n",
              "    </tr>\n",
              "    <tr>\n",
              "      <th>2021-01-23</th>\n",
              "      <td>Pfizer/BioNTech</td>\n",
              "      <td>11471457</td>\n",
              "      <td>22975660.0</td>\n",
              "      <td>41411550.0</td>\n",
              "      <td>17390345.0</td>\n",
              "      <td>59.93</td>\n",
              "      <td>384.49</td>\n",
              "      <td>3027865.0</td>\n",
              "      <td>322.48</td>\n",
              "      <td>795.34</td>\n",
              "      <td>1578417.0</td>\n",
              "      <td>1194901.0</td>\n",
              "      <td>196176.0</td>\n",
              "      <td>31.705</td>\n",
              "    </tr>\n",
              "    <tr>\n",
              "      <th>2021-01-24</th>\n",
              "      <td>Pfizer/BioNTech</td>\n",
              "      <td>12153536</td>\n",
              "      <td>24415673.0</td>\n",
              "      <td>41411550.0</td>\n",
              "      <td>18502131.0</td>\n",
              "      <td>63.41</td>\n",
              "      <td>410.77</td>\n",
              "      <td>3216836.0</td>\n",
              "      <td>345.12</td>\n",
              "      <td>795.34</td>\n",
              "      <td>1440013.0</td>\n",
              "      <td>1265296.0</td>\n",
              "      <td>211301.0</td>\n",
              "      <td>33.769</td>\n",
              "    </tr>\n",
              "    <tr>\n",
              "      <th>2021-01-25</th>\n",
              "      <td>Pfizer/BioNTech</td>\n",
              "      <td>12551999</td>\n",
              "      <td>25448730.0</td>\n",
              "      <td>41418325.0</td>\n",
              "      <td>19252279.0</td>\n",
              "      <td>65.48</td>\n",
              "      <td>424.17</td>\n",
              "      <td>3346390.0</td>\n",
              "      <td>356.37</td>\n",
              "      <td>801.87</td>\n",
              "      <td>1033057.0</td>\n",
              "      <td>1277560.0</td>\n",
              "      <td>208112.0</td>\n",
              "      <td>34.883</td>\n",
              "    </tr>\n",
              "  </tbody>\n",
              "</table>\n",
              "</div>"
            ],
            "text/plain": [
              "                    vaccine  ...  share_doses_used\n",
              "date                         ...                  \n",
              "2021-01-12  Pfizer/BioNTech  ...            22.063\n",
              "2021-01-13  Pfizer/BioNTech  ...            22.508\n",
              "2021-01-15  Pfizer/BioNTech  ...            24.954\n",
              "2021-01-19  Pfizer/BioNTech  ...            31.303\n",
              "2021-01-20  Pfizer/BioNTech  ...            28.830\n",
              "2021-01-21  Pfizer/BioNTech  ...            29.246\n",
              "2021-01-22  Pfizer/BioNTech  ...            30.468\n",
              "2021-01-23  Pfizer/BioNTech  ...            31.705\n",
              "2021-01-24  Pfizer/BioNTech  ...            33.769\n",
              "2021-01-25  Pfizer/BioNTech  ...            34.883\n",
              "\n",
              "[10 rows x 14 columns]"
            ]
          },
          "metadata": {
            "tags": []
          },
          "execution_count": 97
        }
      ]
    },
    {
      "cell_type": "code",
      "metadata": {
        "colab": {
          "base_uri": "https://localhost:8080/",
          "height": 580
        },
        "id": "0drjW81GJfiI",
        "outputId": "92afeeda-b382-4ce2-af29-4d802f08e902"
      },
      "source": [
        "Mod_manu_vacci = Mod_manu.join(vacci_us, how = 'left', lsuffix = '_manu', rsuffix = '_vacci')\n",
        "Mod_manu_vacci.head(10)"
      ],
      "execution_count": 98,
      "outputs": [
        {
          "output_type": "execute_result",
          "data": {
            "text/html": [
              "<div>\n",
              "<style scoped>\n",
              "    .dataframe tbody tr th:only-of-type {\n",
              "        vertical-align: middle;\n",
              "    }\n",
              "\n",
              "    .dataframe tbody tr th {\n",
              "        vertical-align: top;\n",
              "    }\n",
              "\n",
              "    .dataframe thead th {\n",
              "        text-align: right;\n",
              "    }\n",
              "</style>\n",
              "<table border=\"1\" class=\"dataframe\">\n",
              "  <thead>\n",
              "    <tr style=\"text-align: right;\">\n",
              "      <th></th>\n",
              "      <th>vaccine</th>\n",
              "      <th>total_vaccinations_manu</th>\n",
              "      <th>total_vaccinations_vacci</th>\n",
              "      <th>total_distributed</th>\n",
              "      <th>people_vaccinated</th>\n",
              "      <th>people_fully_vaccinated_per_hundred</th>\n",
              "      <th>total_vaccinations_per_hundred</th>\n",
              "      <th>people_fully_vaccinated</th>\n",
              "      <th>people_vaccinated_per_hundred</th>\n",
              "      <th>distributed_per_hundred</th>\n",
              "      <th>daily_vaccinations_raw</th>\n",
              "      <th>daily_vaccinations</th>\n",
              "      <th>daily_vaccinations_per_million</th>\n",
              "      <th>share_doses_used</th>\n",
              "    </tr>\n",
              "    <tr>\n",
              "      <th>date</th>\n",
              "      <th></th>\n",
              "      <th></th>\n",
              "      <th></th>\n",
              "      <th></th>\n",
              "      <th></th>\n",
              "      <th></th>\n",
              "      <th></th>\n",
              "      <th></th>\n",
              "      <th></th>\n",
              "      <th></th>\n",
              "      <th></th>\n",
              "      <th></th>\n",
              "      <th></th>\n",
              "      <th></th>\n",
              "    </tr>\n",
              "  </thead>\n",
              "  <tbody>\n",
              "    <tr>\n",
              "      <th>2021-01-12</th>\n",
              "      <td>Moderna</td>\n",
              "      <td>3835859</td>\n",
              "      <td>10278912.0</td>\n",
              "      <td>32081325.0</td>\n",
              "      <td>8347766.0</td>\n",
              "      <td>14.16</td>\n",
              "      <td>174.26</td>\n",
              "      <td>784657.0</td>\n",
              "      <td>114.74</td>\n",
              "      <td>573.67</td>\n",
              "      <td>0.0</td>\n",
              "      <td>0.0</td>\n",
              "      <td>0.0</td>\n",
              "      <td>22.063</td>\n",
              "    </tr>\n",
              "    <tr>\n",
              "      <th>2021-01-13</th>\n",
              "      <td>Moderna</td>\n",
              "      <td>4249795</td>\n",
              "      <td>11362639.0</td>\n",
              "      <td>33936700.0</td>\n",
              "      <td>9082123.0</td>\n",
              "      <td>18.95</td>\n",
              "      <td>193.37</td>\n",
              "      <td>1037160.0</td>\n",
              "      <td>126.40</td>\n",
              "      <td>610.84</td>\n",
              "      <td>1083727.0</td>\n",
              "      <td>1083727.0</td>\n",
              "      <td>191029.0</td>\n",
              "      <td>22.508</td>\n",
              "    </tr>\n",
              "    <tr>\n",
              "      <th>2021-01-15</th>\n",
              "      <td>Moderna</td>\n",
              "      <td>5122662</td>\n",
              "      <td>13664143.0</td>\n",
              "      <td>31161075.0</td>\n",
              "      <td>10595866.0</td>\n",
              "      <td>31.93</td>\n",
              "      <td>231.50</td>\n",
              "      <td>1610524.0</td>\n",
              "      <td>198.42</td>\n",
              "      <td>650.16</td>\n",
              "      <td>1289659.0</td>\n",
              "      <td>1128409.0</td>\n",
              "      <td>190744.0</td>\n",
              "      <td>24.954</td>\n",
              "    </tr>\n",
              "    <tr>\n",
              "      <th>2021-01-19</th>\n",
              "      <td>Moderna</td>\n",
              "      <td>6828561</td>\n",
              "      <td>17453029.0</td>\n",
              "      <td>31161075.0</td>\n",
              "      <td>13595803.0</td>\n",
              "      <td>39.95</td>\n",
              "      <td>294.24</td>\n",
              "      <td>2023124.0</td>\n",
              "      <td>252.75</td>\n",
              "      <td>650.16</td>\n",
              "      <td>947221.5</td>\n",
              "      <td>1024875.0</td>\n",
              "      <td>171345.0</td>\n",
              "      <td>31.303</td>\n",
              "    </tr>\n",
              "    <tr>\n",
              "      <th>2021-01-20</th>\n",
              "      <td>Moderna</td>\n",
              "      <td>7239750</td>\n",
              "      <td>18433513.0</td>\n",
              "      <td>35990150.0</td>\n",
              "      <td>14270417.0</td>\n",
              "      <td>43.04</td>\n",
              "      <td>309.90</td>\n",
              "      <td>2161419.0</td>\n",
              "      <td>265.22</td>\n",
              "      <td>716.83</td>\n",
              "      <td>980484.0</td>\n",
              "      <td>1010126.0</td>\n",
              "      <td>166520.0</td>\n",
              "      <td>28.830</td>\n",
              "    </tr>\n",
              "    <tr>\n",
              "      <th>2021-01-21</th>\n",
              "      <td>Moderna</td>\n",
              "      <td>7724683</td>\n",
              "      <td>19635555.0</td>\n",
              "      <td>37960000.0</td>\n",
              "      <td>15053257.0</td>\n",
              "      <td>48.18</td>\n",
              "      <td>330.89</td>\n",
              "      <td>2394961.0</td>\n",
              "      <td>281.05</td>\n",
              "      <td>748.19</td>\n",
              "      <td>1202042.0</td>\n",
              "      <td>1037298.0</td>\n",
              "      <td>173267.0</td>\n",
              "      <td>29.246</td>\n",
              "    </tr>\n",
              "    <tr>\n",
              "      <th>2021-01-22</th>\n",
              "      <td>Moderna</td>\n",
              "      <td>8407909</td>\n",
              "      <td>21397243.0</td>\n",
              "      <td>39892400.0</td>\n",
              "      <td>16243093.0</td>\n",
              "      <td>55.35</td>\n",
              "      <td>359.79</td>\n",
              "      <td>2756953.0</td>\n",
              "      <td>302.55</td>\n",
              "      <td>774.72</td>\n",
              "      <td>1761688.0</td>\n",
              "      <td>1104734.0</td>\n",
              "      <td>183333.0</td>\n",
              "      <td>30.468</td>\n",
              "    </tr>\n",
              "    <tr>\n",
              "      <th>2021-01-23</th>\n",
              "      <td>Moderna</td>\n",
              "      <td>9061112</td>\n",
              "      <td>22975660.0</td>\n",
              "      <td>41411550.0</td>\n",
              "      <td>17390345.0</td>\n",
              "      <td>59.93</td>\n",
              "      <td>384.49</td>\n",
              "      <td>3027865.0</td>\n",
              "      <td>322.48</td>\n",
              "      <td>795.34</td>\n",
              "      <td>1578417.0</td>\n",
              "      <td>1194901.0</td>\n",
              "      <td>196176.0</td>\n",
              "      <td>31.705</td>\n",
              "    </tr>\n",
              "    <tr>\n",
              "      <th>2021-01-24</th>\n",
              "      <td>Moderna</td>\n",
              "      <td>9689497</td>\n",
              "      <td>24415673.0</td>\n",
              "      <td>41411550.0</td>\n",
              "      <td>18502131.0</td>\n",
              "      <td>63.41</td>\n",
              "      <td>410.77</td>\n",
              "      <td>3216836.0</td>\n",
              "      <td>345.12</td>\n",
              "      <td>795.34</td>\n",
              "      <td>1440013.0</td>\n",
              "      <td>1265296.0</td>\n",
              "      <td>211301.0</td>\n",
              "      <td>33.769</td>\n",
              "    </tr>\n",
              "    <tr>\n",
              "      <th>2021-01-25</th>\n",
              "      <td>Moderna</td>\n",
              "      <td>10084432</td>\n",
              "      <td>25448730.0</td>\n",
              "      <td>41418325.0</td>\n",
              "      <td>19252279.0</td>\n",
              "      <td>65.48</td>\n",
              "      <td>424.17</td>\n",
              "      <td>3346390.0</td>\n",
              "      <td>356.37</td>\n",
              "      <td>801.87</td>\n",
              "      <td>1033057.0</td>\n",
              "      <td>1277560.0</td>\n",
              "      <td>208112.0</td>\n",
              "      <td>34.883</td>\n",
              "    </tr>\n",
              "  </tbody>\n",
              "</table>\n",
              "</div>"
            ],
            "text/plain": [
              "            vaccine  ...  share_doses_used\n",
              "date                 ...                  \n",
              "2021-01-12  Moderna  ...            22.063\n",
              "2021-01-13  Moderna  ...            22.508\n",
              "2021-01-15  Moderna  ...            24.954\n",
              "2021-01-19  Moderna  ...            31.303\n",
              "2021-01-20  Moderna  ...            28.830\n",
              "2021-01-21  Moderna  ...            29.246\n",
              "2021-01-22  Moderna  ...            30.468\n",
              "2021-01-23  Moderna  ...            31.705\n",
              "2021-01-24  Moderna  ...            33.769\n",
              "2021-01-25  Moderna  ...            34.883\n",
              "\n",
              "[10 rows x 14 columns]"
            ]
          },
          "metadata": {
            "tags": []
          },
          "execution_count": 98
        }
      ]
    },
    {
      "cell_type": "code",
      "metadata": {
        "colab": {
          "base_uri": "https://localhost:8080/",
          "height": 340
        },
        "id": "TCIWB8pmJgD3",
        "outputId": "77b29680-031c-48e4-f9ac-712f1a0bfeb9"
      },
      "source": [
        "JJ_manu_vacci = JJ_manu.join(vacci_us, how = 'left', lsuffix = '_manu', rsuffix = '_vacci')\n",
        "JJ_manu_vacci.head()"
      ],
      "execution_count": 99,
      "outputs": [
        {
          "output_type": "execute_result",
          "data": {
            "text/html": [
              "<div>\n",
              "<style scoped>\n",
              "    .dataframe tbody tr th:only-of-type {\n",
              "        vertical-align: middle;\n",
              "    }\n",
              "\n",
              "    .dataframe tbody tr th {\n",
              "        vertical-align: top;\n",
              "    }\n",
              "\n",
              "    .dataframe thead th {\n",
              "        text-align: right;\n",
              "    }\n",
              "</style>\n",
              "<table border=\"1\" class=\"dataframe\">\n",
              "  <thead>\n",
              "    <tr style=\"text-align: right;\">\n",
              "      <th></th>\n",
              "      <th>vaccine</th>\n",
              "      <th>total_vaccinations_manu</th>\n",
              "      <th>total_vaccinations_vacci</th>\n",
              "      <th>total_distributed</th>\n",
              "      <th>people_vaccinated</th>\n",
              "      <th>people_fully_vaccinated_per_hundred</th>\n",
              "      <th>total_vaccinations_per_hundred</th>\n",
              "      <th>people_fully_vaccinated</th>\n",
              "      <th>people_vaccinated_per_hundred</th>\n",
              "      <th>distributed_per_hundred</th>\n",
              "      <th>daily_vaccinations_raw</th>\n",
              "      <th>daily_vaccinations</th>\n",
              "      <th>daily_vaccinations_per_million</th>\n",
              "      <th>share_doses_used</th>\n",
              "    </tr>\n",
              "    <tr>\n",
              "      <th>date</th>\n",
              "      <th></th>\n",
              "      <th></th>\n",
              "      <th></th>\n",
              "      <th></th>\n",
              "      <th></th>\n",
              "      <th></th>\n",
              "      <th></th>\n",
              "      <th></th>\n",
              "      <th></th>\n",
              "      <th></th>\n",
              "      <th></th>\n",
              "      <th></th>\n",
              "      <th></th>\n",
              "      <th></th>\n",
              "    </tr>\n",
              "  </thead>\n",
              "  <tbody>\n",
              "    <tr>\n",
              "      <th>2021-03-08</th>\n",
              "      <td>Johnson&amp;Johnson</td>\n",
              "      <td>208590</td>\n",
              "      <td>103758241.0</td>\n",
              "      <td>122473710.0</td>\n",
              "      <td>62549309.0</td>\n",
              "      <td>612.21</td>\n",
              "      <td>1767.85</td>\n",
              "      <td>32897443.0</td>\n",
              "      <td>1135.82</td>\n",
              "      <td>2398.49</td>\n",
              "      <td>1824650.0</td>\n",
              "      <td>2287671.0</td>\n",
              "      <td>377665.0</td>\n",
              "      <td>48.104</td>\n",
              "    </tr>\n",
              "    <tr>\n",
              "      <th>2021-03-09</th>\n",
              "      <td>Johnson&amp;Johnson</td>\n",
              "      <td>308181</td>\n",
              "      <td>105467512.0</td>\n",
              "      <td>129540430.0</td>\n",
              "      <td>63678459.0</td>\n",
              "      <td>623.33</td>\n",
              "      <td>1794.28</td>\n",
              "      <td>33544611.0</td>\n",
              "      <td>1152.60</td>\n",
              "      <td>2507.32</td>\n",
              "      <td>1709271.0</td>\n",
              "      <td>2277293.0</td>\n",
              "      <td>384672.0</td>\n",
              "      <td>46.492</td>\n",
              "    </tr>\n",
              "    <tr>\n",
              "      <th>2021-03-10</th>\n",
              "      <td>Johnson&amp;Johnson</td>\n",
              "      <td>458911</td>\n",
              "      <td>107614717.0</td>\n",
              "      <td>134410410.0</td>\n",
              "      <td>65089854.0</td>\n",
              "      <td>639.85</td>\n",
              "      <td>1836.32</td>\n",
              "      <td>34385505.0</td>\n",
              "      <td>1180.36</td>\n",
              "      <td>2583.54</td>\n",
              "      <td>2147205.0</td>\n",
              "      <td>2294866.0</td>\n",
              "      <td>400701.0</td>\n",
              "      <td>46.015</td>\n",
              "    </tr>\n",
              "    <tr>\n",
              "      <th>2021-03-11</th>\n",
              "      <td>Johnson&amp;Johnson</td>\n",
              "      <td>638469</td>\n",
              "      <td>110233615.0</td>\n",
              "      <td>137798185.0</td>\n",
              "      <td>66767597.0</td>\n",
              "      <td>658.40</td>\n",
              "      <td>1881.51</td>\n",
              "      <td>35389429.0</td>\n",
              "      <td>1209.30</td>\n",
              "      <td>2644.55</td>\n",
              "      <td>2618898.0</td>\n",
              "      <td>2359359.0</td>\n",
              "      <td>410068.0</td>\n",
              "      <td>46.039</td>\n",
              "    </tr>\n",
              "    <tr>\n",
              "      <th>2021-03-12</th>\n",
              "      <td>Johnson&amp;Johnson</td>\n",
              "      <td>873726</td>\n",
              "      <td>113299843.0</td>\n",
              "      <td>140121405.0</td>\n",
              "      <td>68719280.0</td>\n",
              "      <td>681.17</td>\n",
              "      <td>1937.86</td>\n",
              "      <td>36578051.0</td>\n",
              "      <td>1245.49</td>\n",
              "      <td>2681.15</td>\n",
              "      <td>3066228.0</td>\n",
              "      <td>2428889.0</td>\n",
              "      <td>422884.0</td>\n",
              "      <td>46.740</td>\n",
              "    </tr>\n",
              "  </tbody>\n",
              "</table>\n",
              "</div>"
            ],
            "text/plain": [
              "                    vaccine  ...  share_doses_used\n",
              "date                         ...                  \n",
              "2021-03-08  Johnson&Johnson  ...            48.104\n",
              "2021-03-09  Johnson&Johnson  ...            46.492\n",
              "2021-03-10  Johnson&Johnson  ...            46.015\n",
              "2021-03-11  Johnson&Johnson  ...            46.039\n",
              "2021-03-12  Johnson&Johnson  ...            46.740\n",
              "\n",
              "[5 rows x 14 columns]"
            ]
          },
          "metadata": {
            "tags": []
          },
          "execution_count": 99
        }
      ]
    },
    {
      "cell_type": "code",
      "metadata": {
        "id": "420YTE6jRVhj"
      },
      "source": [
        "vacci['daily_vaccinations_lagged'] = vacci['daily_vaccinations'].shift(1) # get the lagged daily vaccinations data\n",
        "Pf_manu_vacci['daily_vaccinations_lagged'] = Pf_manu_vacci['daily_vaccinations'].shift(1) # get the lagged daily vaccinations data\n",
        "Mod_manu_vacci['daily_vaccinations_lagged'] = Mod_manu_vacci['daily_vaccinations'].shift(1)\n",
        "JJ_manu_vacci['daily_vaccinations_lagged'] = JJ_manu_vacci['daily_vaccinations'].shift(1)"
      ],
      "execution_count": 100,
      "outputs": []
    },
    {
      "cell_type": "markdown",
      "metadata": {
        "id": "No4enpMeAEwm"
      },
      "source": [
        "### Predictions"
      ]
    },
    {
      "cell_type": "markdown",
      "metadata": {
        "id": "0Cy1RKy9QI0w"
      },
      "source": [
        "#### Panel Regression"
      ]
    },
    {
      "cell_type": "code",
      "metadata": {
        "colab": {
          "base_uri": "https://localhost:8080/",
          "height": 308
        },
        "id": "6MP4Ldu4QcNu",
        "outputId": "21c76b07-2d3c-4822-a20c-fc190d36e22e"
      },
      "source": [
        "ultimate = (Pf_manu_vacci.append(Mod_manu_vacci)).append(JJ_manu_vacci)\n",
        "ultimate = ultimate.dropna()\n",
        "ultimate.head(20)\n",
        "plt.figure()\n",
        "ax = sns.scatterplot(x = 'daily_vaccinations_lagged', y = 'daily_vaccinations', data = ultimate, hue = 'vaccine', legend = 'brief')\n",
        "plt.legend()\n",
        "plt.show"
      ],
      "execution_count": 101,
      "outputs": [
        {
          "output_type": "execute_result",
          "data": {
            "text/plain": [
              "<function matplotlib.pyplot.show>"
            ]
          },
          "metadata": {
            "tags": []
          },
          "execution_count": 101
        },
        {
          "output_type": "display_data",
          "data": {
            "image/png": "[encoded data removed]",
            "text/plain": [
              "<Figure size 432x288 with 1 Axes>"
            ]
          },
          "metadata": {
            "tags": [],
            "needs_background": "light"
          }
        }
      ]
    },
    {
      "cell_type": "code",
      "metadata": {
        "colab": {
          "base_uri": "https://localhost:8080/"
        },
        "id": "wrJ3EHEMReqc",
        "outputId": "c47e1785-d10a-4cc2-ad8c-77fe31bc73a8"
      },
      "source": [
        "!pip install linearmodels"
      ],
      "execution_count": 102,
      "outputs": [
        {
          "output_type": "stream",
          "text": [
            "Requirement already satisfied: linearmodels in /usr/local/lib/python3.7/dist-packages (4.24)\n",
            "Requirement already satisfied: property-cached>=1.6.3 in /usr/local/lib/python3.7/dist-packages (from linearmodels) (1.6.4)\n",
            "Requirement already satisfied: Cython>=0.29.21 in /usr/local/lib/python3.7/dist-packages (from linearmodels) (0.29.23)\n",
            "Requirement already satisfied: statsmodels>=0.11 in /usr/local/lib/python3.7/dist-packages (from linearmodels) (0.12.2)\n",
            "Requirement already satisfied: patsy in /usr/local/lib/python3.7/dist-packages (from linearmodels) (0.5.1)\n",
            "Requirement already satisfied: pyhdfe>=0.1 in /usr/local/lib/python3.7/dist-packages (from linearmodels) (0.1.0)\n",
            "Requirement already satisfied: mypy-extensions>=0.4 in /usr/local/lib/python3.7/dist-packages (from linearmodels) (0.4.3)\n",
            "Requirement already satisfied: numpy>=1.16 in /usr/local/lib/python3.7/dist-packages (from linearmodels) (1.19.5)\n",
            "Requirement already satisfied: pandas>=0.24 in /usr/local/lib/python3.7/dist-packages (from linearmodels) (1.1.5)\n",
            "Requirement already satisfied: scipy>=1.2 in /usr/local/lib/python3.7/dist-packages (from linearmodels) (1.4.1)\n",
            "Requirement already satisfied: six in /usr/local/lib/python3.7/dist-packages (from patsy->linearmodels) (1.15.0)\n",
            "Requirement already satisfied: python-dateutil>=2.7.3 in /usr/local/lib/python3.7/dist-packages (from pandas>=0.24->linearmodels) (2.8.1)\n",
            "Requirement already satisfied: pytz>=2017.2 in /usr/local/lib/python3.7/dist-packages (from pandas>=0.24->linearmodels) (2018.9)\n"
          ],
          "name": "stdout"
        }
      ]
    },
    {
      "cell_type": "code",
      "metadata": {
        "id": "soX_1NitSn7Q"
      },
      "source": [
        "from linearmodels.panel import PanelOLS\n",
        "from patsy import dmatrices"
      ],
      "execution_count": 103,
      "outputs": []
    },
    {
      "cell_type": "code",
      "metadata": {
        "id": "yp4oQJKASqIa"
      },
      "source": [
        "data_panel = vacci.copy().dropna()\n",
        "data_panel = data_panel.reset_index()\n",
        "# data_panel['date'] = pd.to_datetime(data_panel['date'], format='%Y-%m-%d', errors='ignore')\n",
        "# data_panel = data_panel.set_index(['location', 'date'])"
      ],
      "execution_count": 121,
      "outputs": []
    },
    {
      "cell_type": "code",
      "metadata": {
        "id": "MQgSlulsh7mV"
      },
      "source": [
        "data_panel_train = data_panel.loc[data_panel.date < '2021-03-11']\n",
        "data_panel_train['date'] = pd.to_datetime(data_panel_train['date'], format='%Y-%m-%d', errors='ignore')\n",
        "data_panel_train = data_panel_train.set_index(['location', 'date'])\n",
        "data_panel_test = data_panel.loc[data_panel.date >= '2021-03-11']\n",
        "data_panel_test['date'] = pd.to_datetime(data_panel_test['date'], format='%Y-%m-%d', errors='ignore')\n",
        "data_panel_test = data_panel_test.set_index(['location', 'date'])"
      ],
      "execution_count": 122,
      "outputs": []
    },
    {
      "cell_type": "code",
      "metadata": {
        "colab": {
          "base_uri": "https://localhost:8080/",
          "height": 492
        },
        "id": "bKMZTtkHSy0T",
        "outputId": "d2f6bb82-2a3e-45fe-9887-6cb48c8f7d19"
      },
      "source": [
        "p1 = PanelOLS.from_formula(formula = 'daily_vaccinations ~ 1 + daily_vaccinations_lagged', data = data_panel_train).fit()\n",
        "p1.summary"
      ],
      "execution_count": 123,
      "outputs": [
        {
          "output_type": "execute_result",
          "data": {
            "text/html": [
              "<table class=\"simpletable\">\n",
              "<caption>PanelOLS Estimation Summary</caption>\n",
              "<tr>\n",
              "  <th>Dep. Variable:</th>    <td>daily_vaccinations</td> <th>  R-squared:         </th>     <td>0.9881</td>  \n",
              "</tr>\n",
              "<tr>\n",
              "  <th>Estimator:</th>             <td>PanelOLS</td>      <th>  R-squared (Between):</th>    <td>0.9999</td>  \n",
              "</tr>\n",
              "<tr>\n",
              "  <th>No. Observations:</th>        <td>3021</td>        <th>  R-squared (Within):</th>     <td>0.9079</td>  \n",
              "</tr>\n",
              "<tr>\n",
              "  <th>Date:</th>              <td>Thu, May 27 2021</td>  <th>  R-squared (Overall):</th>    <td>0.9881</td>  \n",
              "</tr>\n",
              "<tr>\n",
              "  <th>Time:</th>                  <td>22:20:26</td>      <th>  Log-likelihood     </th>   <td>-2.907e+04</td>\n",
              "</tr>\n",
              "<tr>\n",
              "  <th>Cov. Estimator:</th>       <td>Unadjusted</td>     <th>                     </th>        <td></td>     \n",
              "</tr>\n",
              "<tr>\n",
              "  <th></th>                           <td></td>          <th>  F-statistic:       </th>    <td>2.498e+05</td>\n",
              "</tr>\n",
              "<tr>\n",
              "  <th>Entities:</th>                 <td>60</td>         <th>  P-value            </th>     <td>0.0000</td>  \n",
              "</tr>\n",
              "<tr>\n",
              "  <th>Avg Obs:</th>                <td>50.350</td>       <th>  Distribution:      </th>    <td>F(1,3019)</td>\n",
              "</tr>\n",
              "<tr>\n",
              "  <th>Min Obs:</th>                <td>22.000</td>       <th>                     </th>        <td></td>     \n",
              "</tr>\n",
              "<tr>\n",
              "  <th>Max Obs:</th>                <td>51.000</td>       <th>  F-statistic (robust):</th>  <td>2.498e+05</td>\n",
              "</tr>\n",
              "<tr>\n",
              "  <th></th>                           <td></td>          <th>  P-value            </th>     <td>0.0000</td>  \n",
              "</tr>\n",
              "<tr>\n",
              "  <th>Time periods:</th>             <td>51</td>         <th>  Distribution:      </th>    <td>F(1,3019)</td>\n",
              "</tr>\n",
              "<tr>\n",
              "  <th>Avg Obs:</th>                <td>59.235</td>       <th>                     </th>        <td></td>     \n",
              "</tr>\n",
              "<tr>\n",
              "  <th>Min Obs:</th>                <td>58.000</td>       <th>                     </th>        <td></td>     \n",
              "</tr>\n",
              "<tr>\n",
              "  <th>Max Obs:</th>                <td>60.000</td>       <th>                     </th>        <td></td>     \n",
              "</tr>\n",
              "<tr>\n",
              "  <th></th>                           <td></td>          <th>                     </th>        <td></td>     \n",
              "</tr>\n",
              "</table>\n",
              "<table class=\"simpletable\">\n",
              "<caption>Parameter Estimates</caption>\n",
              "<tr>\n",
              "              <td></td>              <th>Parameter</th> <th>Std. Err.</th> <th>T-stat</th> <th>P-value</th> <th>Lower CI</th> <th>Upper CI</th>\n",
              "</tr>\n",
              "<tr>\n",
              "  <th>Intercept</th>                  <td>275.28</td>    <td>83.684</td>   <td>3.2895</td> <td>0.0010</td>   <td>111.20</td>   <td>439.37</td> \n",
              "</tr>\n",
              "<tr>\n",
              "  <th>daily_vaccinations_lagged</th>  <td>1.0069</td>    <td>0.0020</td>   <td>499.83</td> <td>0.0000</td>   <td>1.0029</td>   <td>1.0108</td> \n",
              "</tr>\n",
              "</table><br/><br/>"
            ],
            "text/plain": [
              "<class 'linearmodels.compat.statsmodels.Summary'>\n",
              "\"\"\"\n",
              "                          PanelOLS Estimation Summary                           \n",
              "================================================================================\n",
              "Dep. Variable:     daily_vaccinations   R-squared:                        0.9881\n",
              "Estimator:                   PanelOLS   R-squared (Between):              0.9999\n",
              "No. Observations:                3021   R-squared (Within):               0.9079\n",
              "Date:                Thu, May 27 2021   R-squared (Overall):              0.9881\n",
              "Time:                        22:20:26   Log-likelihood                -2.907e+04\n",
              "Cov. Estimator:            Unadjusted                                           \n",
              "                                        F-statistic:                   2.498e+05\n",
              "Entities:                          60   P-value                           0.0000\n",
              "Avg Obs:                       50.350   Distribution:                  F(1,3019)\n",
              "Min Obs:                       22.000                                           \n",
              "Max Obs:                       51.000   F-statistic (robust):          2.498e+05\n",
              "                                        P-value                           0.0000\n",
              "Time periods:                      51   Distribution:                  F(1,3019)\n",
              "Avg Obs:                       59.235                                           \n",
              "Min Obs:                       58.000                                           \n",
              "Max Obs:                       60.000                                           \n",
              "                                                                                \n",
              "                                     Parameter Estimates                                     \n",
              "=============================================================================================\n",
              "                           Parameter  Std. Err.     T-stat    P-value    Lower CI    Upper CI\n",
              "---------------------------------------------------------------------------------------------\n",
              "Intercept                     275.28     83.684     3.2895     0.0010      111.20      439.37\n",
              "daily_vaccinations_lagged     1.0069     0.0020     499.83     0.0000      1.0029      1.0108\n",
              "=============================================================================================\n",
              "\n",
              "\n",
              "\"\"\""
            ]
          },
          "metadata": {
            "tags": []
          },
          "execution_count": 123
        }
      ]
    },
    {
      "cell_type": "code",
      "metadata": {
        "colab": {
          "base_uri": "https://localhost:8080/",
          "height": 492
        },
        "id": "sqm1q4O-TWxg",
        "outputId": "d4a6b27f-deb4-4e3f-a204-b6f745b74585"
      },
      "source": [
        "p2 = PanelOLS.from_formula(formula = 'daily_vaccinations ~ 1 + daily_vaccinations_lagged',\\\n",
        "                                     data = data_panel_train).fit(cov_type = 'clustered', Cluster_entity = True, Cluster_time = False)\n",
        "p2.summary"
      ],
      "execution_count": 124,
      "outputs": [
        {
          "output_type": "execute_result",
          "data": {
            "text/html": [
              "<table class=\"simpletable\">\n",
              "<caption>PanelOLS Estimation Summary</caption>\n",
              "<tr>\n",
              "  <th>Dep. Variable:</th>    <td>daily_vaccinations</td> <th>  R-squared:         </th>     <td>0.9881</td>  \n",
              "</tr>\n",
              "<tr>\n",
              "  <th>Estimator:</th>             <td>PanelOLS</td>      <th>  R-squared (Between):</th>    <td>0.9999</td>  \n",
              "</tr>\n",
              "<tr>\n",
              "  <th>No. Observations:</th>        <td>3021</td>        <th>  R-squared (Within):</th>     <td>0.9079</td>  \n",
              "</tr>\n",
              "<tr>\n",
              "  <th>Date:</th>              <td>Thu, May 27 2021</td>  <th>  R-squared (Overall):</th>    <td>0.9881</td>  \n",
              "</tr>\n",
              "<tr>\n",
              "  <th>Time:</th>                  <td>22:20:27</td>      <th>  Log-likelihood     </th>   <td>-2.907e+04</td>\n",
              "</tr>\n",
              "<tr>\n",
              "  <th>Cov. Estimator:</th>        <td>Clustered</td>     <th>                     </th>        <td></td>     \n",
              "</tr>\n",
              "<tr>\n",
              "  <th></th>                           <td></td>          <th>  F-statistic:       </th>    <td>2.498e+05</td>\n",
              "</tr>\n",
              "<tr>\n",
              "  <th>Entities:</th>                 <td>60</td>         <th>  P-value            </th>     <td>0.0000</td>  \n",
              "</tr>\n",
              "<tr>\n",
              "  <th>Avg Obs:</th>                <td>50.350</td>       <th>  Distribution:      </th>    <td>F(1,3019)</td>\n",
              "</tr>\n",
              "<tr>\n",
              "  <th>Min Obs:</th>                <td>22.000</td>       <th>                     </th>        <td></td>     \n",
              "</tr>\n",
              "<tr>\n",
              "  <th>Max Obs:</th>                <td>51.000</td>       <th>  F-statistic (robust):</th>  <td>2.452e+04</td>\n",
              "</tr>\n",
              "<tr>\n",
              "  <th></th>                           <td></td>          <th>  P-value            </th>     <td>0.0000</td>  \n",
              "</tr>\n",
              "<tr>\n",
              "  <th>Time periods:</th>             <td>51</td>         <th>  Distribution:      </th>    <td>F(1,3019)</td>\n",
              "</tr>\n",
              "<tr>\n",
              "  <th>Avg Obs:</th>                <td>59.235</td>       <th>                     </th>        <td></td>     \n",
              "</tr>\n",
              "<tr>\n",
              "  <th>Min Obs:</th>                <td>58.000</td>       <th>                     </th>        <td></td>     \n",
              "</tr>\n",
              "<tr>\n",
              "  <th>Max Obs:</th>                <td>60.000</td>       <th>                     </th>        <td></td>     \n",
              "</tr>\n",
              "<tr>\n",
              "  <th></th>                           <td></td>          <th>                     </th>        <td></td>     \n",
              "</tr>\n",
              "</table>\n",
              "<table class=\"simpletable\">\n",
              "<caption>Parameter Estimates</caption>\n",
              "<tr>\n",
              "              <td></td>              <th>Parameter</th> <th>Std. Err.</th> <th>T-stat</th> <th>P-value</th> <th>Lower CI</th> <th>Upper CI</th>\n",
              "</tr>\n",
              "<tr>\n",
              "  <th>Intercept</th>                  <td>275.28</td>    <td>121.69</td>   <td>2.2622</td> <td>0.0238</td>   <td>36.682</td>   <td>513.88</td> \n",
              "</tr>\n",
              "<tr>\n",
              "  <th>daily_vaccinations_lagged</th>  <td>1.0069</td>    <td>0.0064</td>   <td>156.59</td> <td>0.0000</td>   <td>0.9943</td>   <td>1.0195</td> \n",
              "</tr>\n",
              "</table><br/><br/>"
            ],
            "text/plain": [
              "<class 'linearmodels.compat.statsmodels.Summary'>\n",
              "\"\"\"\n",
              "                          PanelOLS Estimation Summary                           \n",
              "================================================================================\n",
              "Dep. Variable:     daily_vaccinations   R-squared:                        0.9881\n",
              "Estimator:                   PanelOLS   R-squared (Between):              0.9999\n",
              "No. Observations:                3021   R-squared (Within):               0.9079\n",
              "Date:                Thu, May 27 2021   R-squared (Overall):              0.9881\n",
              "Time:                        22:20:27   Log-likelihood                -2.907e+04\n",
              "Cov. Estimator:             Clustered                                           \n",
              "                                        F-statistic:                   2.498e+05\n",
              "Entities:                          60   P-value                           0.0000\n",
              "Avg Obs:                       50.350   Distribution:                  F(1,3019)\n",
              "Min Obs:                       22.000                                           \n",
              "Max Obs:                       51.000   F-statistic (robust):          2.452e+04\n",
              "                                        P-value                           0.0000\n",
              "Time periods:                      51   Distribution:                  F(1,3019)\n",
              "Avg Obs:                       59.235                                           \n",
              "Min Obs:                       58.000                                           \n",
              "Max Obs:                       60.000                                           \n",
              "                                                                                \n",
              "                                     Parameter Estimates                                     \n",
              "=============================================================================================\n",
              "                           Parameter  Std. Err.     T-stat    P-value    Lower CI    Upper CI\n",
              "---------------------------------------------------------------------------------------------\n",
              "Intercept                     275.28     121.69     2.2622     0.0238      36.682      513.88\n",
              "daily_vaccinations_lagged     1.0069     0.0064     156.59     0.0000      0.9943      1.0195\n",
              "=============================================================================================\n",
              "\n",
              "\n",
              "\"\"\""
            ]
          },
          "metadata": {
            "tags": []
          },
          "execution_count": 124
        }
      ]
    },
    {
      "cell_type": "code",
      "metadata": {
        "colab": {
          "base_uri": "https://localhost:8080/",
          "height": 492
        },
        "id": "1JwBGHg6UHRM",
        "outputId": "a50f5df4-7690-4463-88f8-5ad3c07cd9d5"
      },
      "source": [
        "p3 = PanelOLS.from_formula(formula = 'daily_vaccinations_lagged ~ 1 + daily_vaccinations',\\\n",
        "                                     data = data_panel_train).fit(cov_type = 'clustered', Cluster_entity = True, Cluster_time = True)\n",
        "p3.summary"
      ],
      "execution_count": 125,
      "outputs": [
        {
          "output_type": "execute_result",
          "data": {
            "text/html": [
              "<table class=\"simpletable\">\n",
              "<caption>PanelOLS Estimation Summary</caption>\n",
              "<tr>\n",
              "  <th>Dep. Variable:</th>    <td>daily_vaccinations_lagged</td> <th>  R-squared:         </th>     <td>0.9881</td>  \n",
              "</tr>\n",
              "<tr>\n",
              "  <th>Estimator:</th>                <td>PanelOLS</td>          <th>  R-squared (Between):</th>    <td>0.9999</td>  \n",
              "</tr>\n",
              "<tr>\n",
              "  <th>No. Observations:</th>           <td>3021</td>            <th>  R-squared (Within):</th>     <td>0.9105</td>  \n",
              "</tr>\n",
              "<tr>\n",
              "  <th>Date:</th>                 <td>Thu, May 27 2021</td>      <th>  R-squared (Overall):</th>    <td>0.9881</td>  \n",
              "</tr>\n",
              "<tr>\n",
              "  <th>Time:</th>                     <td>22:20:29</td>          <th>  Log-likelihood     </th>   <td>-2.903e+04</td>\n",
              "</tr>\n",
              "<tr>\n",
              "  <th>Cov. Estimator:</th>           <td>Clustered</td>         <th>                     </th>        <td></td>     \n",
              "</tr>\n",
              "<tr>\n",
              "  <th></th>                              <td></td>              <th>  F-statistic:       </th>    <td>2.498e+05</td>\n",
              "</tr>\n",
              "<tr>\n",
              "  <th>Entities:</th>                    <td>60</td>             <th>  P-value            </th>     <td>0.0000</td>  \n",
              "</tr>\n",
              "<tr>\n",
              "  <th>Avg Obs:</th>                   <td>50.350</td>           <th>  Distribution:      </th>    <td>F(1,3019)</td>\n",
              "</tr>\n",
              "<tr>\n",
              "  <th>Min Obs:</th>                   <td>22.000</td>           <th>                     </th>        <td></td>     \n",
              "</tr>\n",
              "<tr>\n",
              "  <th>Max Obs:</th>                   <td>51.000</td>           <th>  F-statistic (robust):</th>  <td>2.417e+04</td>\n",
              "</tr>\n",
              "<tr>\n",
              "  <th></th>                              <td></td>              <th>  P-value            </th>     <td>0.0000</td>  \n",
              "</tr>\n",
              "<tr>\n",
              "  <th>Time periods:</th>                <td>51</td>             <th>  Distribution:      </th>    <td>F(1,3019)</td>\n",
              "</tr>\n",
              "<tr>\n",
              "  <th>Avg Obs:</th>                   <td>59.235</td>           <th>                     </th>        <td></td>     \n",
              "</tr>\n",
              "<tr>\n",
              "  <th>Min Obs:</th>                   <td>58.000</td>           <th>                     </th>        <td></td>     \n",
              "</tr>\n",
              "<tr>\n",
              "  <th>Max Obs:</th>                   <td>60.000</td>           <th>                     </th>        <td></td>     \n",
              "</tr>\n",
              "<tr>\n",
              "  <th></th>                              <td></td>              <th>                     </th>        <td></td>     \n",
              "</tr>\n",
              "</table>\n",
              "<table class=\"simpletable\">\n",
              "<caption>Parameter Estimates</caption>\n",
              "<tr>\n",
              "           <td></td>          <th>Parameter</th> <th>Std. Err.</th> <th>T-stat</th> <th>P-value</th> <th>Lower CI</th> <th>Upper CI</th>\n",
              "</tr>\n",
              "<tr>\n",
              "  <th>Intercept</th>           <td>30.330</td>    <td>121.51</td>   <td>0.2496</td> <td>0.8029</td>   <td>-207.93</td>  <td>268.59</td> \n",
              "</tr>\n",
              "<tr>\n",
              "  <th>daily_vaccinations</th>  <td>0.9813</td>    <td>0.0063</td>   <td>155.46</td> <td>0.0000</td>   <td>0.9689</td>   <td>0.9937</td> \n",
              "</tr>\n",
              "</table><br/><br/>"
            ],
            "text/plain": [
              "<class 'linearmodels.compat.statsmodels.Summary'>\n",
              "\"\"\"\n",
              "                              PanelOLS Estimation Summary                              \n",
              "=======================================================================================\n",
              "Dep. Variable:     daily_vaccinations_lagged   R-squared:                        0.9881\n",
              "Estimator:                          PanelOLS   R-squared (Between):              0.9999\n",
              "No. Observations:                       3021   R-squared (Within):               0.9105\n",
              "Date:                       Thu, May 27 2021   R-squared (Overall):              0.9881\n",
              "Time:                               22:20:29   Log-likelihood                -2.903e+04\n",
              "Cov. Estimator:                    Clustered                                           \n",
              "                                               F-statistic:                   2.498e+05\n",
              "Entities:                                 60   P-value                           0.0000\n",
              "Avg Obs:                              50.350   Distribution:                  F(1,3019)\n",
              "Min Obs:                              22.000                                           \n",
              "Max Obs:                              51.000   F-statistic (robust):          2.417e+04\n",
              "                                               P-value                           0.0000\n",
              "Time periods:                             51   Distribution:                  F(1,3019)\n",
              "Avg Obs:                              59.235                                           \n",
              "Min Obs:                              58.000                                           \n",
              "Max Obs:                              60.000                                           \n",
              "                                                                                       \n",
              "                                 Parameter Estimates                                  \n",
              "======================================================================================\n",
              "                    Parameter  Std. Err.     T-stat    P-value    Lower CI    Upper CI\n",
              "--------------------------------------------------------------------------------------\n",
              "Intercept              30.330     121.51     0.2496     0.8029     -207.93      268.59\n",
              "daily_vaccinations     0.9813     0.0063     155.46     0.0000      0.9689      0.9937\n",
              "======================================================================================\n",
              "\n",
              "\n",
              "\"\"\""
            ]
          },
          "metadata": {
            "tags": []
          },
          "execution_count": 125
        }
      ]
    },
    {
      "cell_type": "code",
      "metadata": {
        "colab": {
          "base_uri": "https://localhost:8080/"
        },
        "id": "yhTGLhlk6A6p",
        "outputId": "93033c88-042c-4668-d649-75ef021753c7"
      },
      "source": [
        "p1.params"
      ],
      "execution_count": 126,
      "outputs": [
        {
          "output_type": "execute_result",
          "data": {
            "text/plain": [
              "Intercept                    275.283232\n",
              "daily_vaccinations_lagged      1.006895\n",
              "Name: parameter, dtype: float64"
            ]
          },
          "metadata": {
            "tags": []
          },
          "execution_count": 126
        }
      ]
    },
    {
      "cell_type": "code",
      "metadata": {
        "colab": {
          "base_uri": "https://localhost:8080/",
          "height": 450
        },
        "id": "L3sfu-0rlw0R",
        "outputId": "a01da8fc-201d-4941-a9e4-39729bf77e47"
      },
      "source": [
        "p1.predict(data = data_panel_test['daily_vaccinations_lagged'])"
      ],
      "execution_count": 129,
      "outputs": [
        {
          "output_type": "execute_result",
          "data": {
            "text/html": [
              "<div>\n",
              "<style scoped>\n",
              "    .dataframe tbody tr th:only-of-type {\n",
              "        vertical-align: middle;\n",
              "    }\n",
              "\n",
              "    .dataframe tbody tr th {\n",
              "        vertical-align: top;\n",
              "    }\n",
              "\n",
              "    .dataframe thead th {\n",
              "        text-align: right;\n",
              "    }\n",
              "</style>\n",
              "<table border=\"1\" class=\"dataframe\">\n",
              "  <thead>\n",
              "    <tr style=\"text-align: right;\">\n",
              "      <th></th>\n",
              "      <th></th>\n",
              "      <th>predictions</th>\n",
              "    </tr>\n",
              "    <tr>\n",
              "      <th>location</th>\n",
              "      <th>date</th>\n",
              "      <th></th>\n",
              "    </tr>\n",
              "  </thead>\n",
              "  <tbody>\n",
              "    <tr>\n",
              "      <th rowspan=\"5\" valign=\"top\">Alabama</th>\n",
              "      <th>2021-03-11</th>\n",
              "      <td>25273.470865</td>\n",
              "    </tr>\n",
              "    <tr>\n",
              "      <th>2021-03-12</th>\n",
              "      <td>25826.256341</td>\n",
              "    </tr>\n",
              "    <tr>\n",
              "      <th>2021-03-13</th>\n",
              "      <td>26832.144666</td>\n",
              "    </tr>\n",
              "    <tr>\n",
              "      <th>2021-03-14</th>\n",
              "      <td>27396.005989</td>\n",
              "    </tr>\n",
              "    <tr>\n",
              "      <th>2021-03-15</th>\n",
              "      <td>27386.943932</td>\n",
              "    </tr>\n",
              "    <tr>\n",
              "      <th>...</th>\n",
              "      <th>...</th>\n",
              "      <td>...</td>\n",
              "    </tr>\n",
              "    <tr>\n",
              "      <th rowspan=\"5\" valign=\"top\">Wyoming</th>\n",
              "      <th>2021-05-12</th>\n",
              "      <td>2021.239543</td>\n",
              "    </tr>\n",
              "    <tr>\n",
              "      <th>2021-05-13</th>\n",
              "      <td>1925.584498</td>\n",
              "    </tr>\n",
              "    <tr>\n",
              "      <th>2021-05-14</th>\n",
              "      <td>1909.474174</td>\n",
              "    </tr>\n",
              "    <tr>\n",
              "      <th>2021-05-15</th>\n",
              "      <td>1554.040161</td>\n",
              "    </tr>\n",
              "    <tr>\n",
              "      <th>2021-05-16</th>\n",
              "      <td>1556.053952</td>\n",
              "    </tr>\n",
              "  </tbody>\n",
              "</table>\n",
              "<p>4020 rows × 1 columns</p>\n",
              "</div>"
            ],
            "text/plain": [
              "                      predictions\n",
              "location date                    \n",
              "Alabama  2021-03-11  25273.470865\n",
              "         2021-03-12  25826.256341\n",
              "         2021-03-13  26832.144666\n",
              "         2021-03-14  27396.005989\n",
              "         2021-03-15  27386.943932\n",
              "...                           ...\n",
              "Wyoming  2021-05-12   2021.239543\n",
              "         2021-05-13   1925.584498\n",
              "         2021-05-14   1909.474174\n",
              "         2021-05-15   1554.040161\n",
              "         2021-05-16   1556.053952\n",
              "\n",
              "[4020 rows x 1 columns]"
            ]
          },
          "metadata": {
            "tags": []
          },
          "execution_count": 129
        }
      ]
    },
    {
      "cell_type": "code",
      "metadata": {
        "id": "xEkY4R5wgono"
      },
      "source": [
        ""
      ],
      "execution_count": null,
      "outputs": []
    },
    {
      "cell_type": "markdown",
      "metadata": {
        "id": "dXU-AI52Yd_Z"
      },
      "source": [
        "### Stock Price"
      ]
    },
    {
      "cell_type": "code",
      "metadata": {
        "id": "hGyqQVQmYUx0"
      },
      "source": [
        "# jnj = pd.read_csv('/content/COVID-Vaccine-and-Biotech-industry/JNJ.csv').rename(str.lower, axis='columns')\n",
        "# mrna = pd.read_csv('/content/COVID-Vaccine-and-Biotech-industry/MRNA.csv').rename(str.lower, axis='columns')\n",
        "# pfe = pd.read_csv('/content/COVID-Vaccine-and-Biotech-industry/PFE.csv').rename(str.lower, axis='columns')"
      ],
      "execution_count": null,
      "outputs": []
    },
    {
      "cell_type": "code",
      "metadata": {
        "id": "TyX7hUTacFpU"
      },
      "source": [
        "mrna = pd.read_csv('https://raw.githubusercontent.com/juno-yuu/COVID-Vaccine-and-Biotech-industry/main/MRNA.csv').rename(str.lower, axis='columns')\n",
        "pfe = pd.read_csv('https://raw.githubusercontent.com/juno-yuu/COVID-Vaccine-and-Biotech-industry/main/PFE.csv').rename(str.lower, axis='columns')\n",
        "jnj = pd.read_csv('https://raw.githubusercontent.com/juno-yuu/COVID-Vaccine-and-Biotech-industry/main/JNJ.csv').rename(str.lower, axis='columns')"
      ],
      "execution_count": null,
      "outputs": []
    },
    {
      "cell_type": "code",
      "metadata": {
        "id": "RZ9DMsJEcsiL"
      },
      "source": [
        ""
      ],
      "execution_count": null,
      "outputs": []
    }
  ]
}