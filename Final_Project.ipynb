{
  "nbformat": 4,
  "nbformat_minor": 0,
  "metadata": {
    "colab": {
      "name": "Final Project.ipynb",
      "provenance": [],
      "authorship_tag": "ABX9TyMUKQOT+vJjqex6/3Sbbt4z",
      "include_colab_link": true
    },
    "kernelspec": {
      "name": "python3",
      "display_name": "Python 3"
    },
    "language_info": {
      "name": "python"
    }
  },
  "cells": [
    {
      "cell_type": "markdown",
      "metadata": {
        "id": "view-in-github",
        "colab_type": "text"
      },
      "source": [
        "<a href=\"https://colab.research.google.com/github/juno-yuu/COVID-Vaccine-and-Biotech-industry/blob/Erin/Final_Project.ipynb\" target=\"_parent\"><img src=\"https://colab.research.google.com/assets/colab-badge.svg\" alt=\"Open In Colab\"/></a>"
      ]
    },
    {
      "cell_type": "code",
      "metadata": {
        "id": "B7mUWxWAMkX8"
      },
      "source": [
        "import pandas as pd"
      ],
      "execution_count": 3,
      "outputs": []
    },
    {
      "cell_type": "code",
      "metadata": {
        "colab": {
          "base_uri": "https://localhost:8080/"
        },
        "id": "dSwKYS-AOF2H",
        "outputId": "bc0b18f0-104a-459b-ddca-efe45ca32e1b"
      },
      "source": [
        "!git clone https://github.com/juno-yuu/COVID-Vaccine-and-Biotech-industry.git"
      ],
      "execution_count": 6,
      "outputs": [
        {
          "output_type": "stream",
          "text": [
            "Cloning into 'COVID-Vaccine-and-Biotech-industry'...\n",
            "remote: Enumerating objects: 10, done.\u001b[K\n",
            "remote: Counting objects: 100% (10/10), done.\u001b[K\n",
            "remote: Compressing objects: 100% (8/8), done.\u001b[K\n",
            "remote: Total 10 (delta 1), reused 0 (delta 0), pack-reused 0\u001b[K\n",
            "Unpacking objects: 100% (10/10), done.\n"
          ],
          "name": "stdout"
        }
      ]
    },
    {
      "cell_type": "code",
      "metadata": {
        "id": "iYPLDn8yOMdz"
      },
      "source": [
        "data = pd.read_csv(\"/content/COVID-Vaccine-and-Biotech-industry/us_state_vaccinations.csv\")"
      ],
      "execution_count": 9,
      "outputs": []
    },
    {
      "cell_type": "code",
      "metadata": {
        "colab": {
          "base_uri": "https://localhost:8080/",
          "height": 317
        },
        "id": "PHso7VtPOYXx",
        "outputId": "aada8609-a6ff-478d-b29f-bb0eb9cc410e"
      },
      "source": [
        "data.describe()"
      ],
      "execution_count": 11,
      "outputs": [
        {
          "output_type": "execute_result",
          "data": {
            "text/html": [
              "<div>\n",
              "<style scoped>\n",
              "    .dataframe tbody tr th:only-of-type {\n",
              "        vertical-align: middle;\n",
              "    }\n",
              "\n",
              "    .dataframe tbody tr th {\n",
              "        vertical-align: top;\n",
              "    }\n",
              "\n",
              "    .dataframe thead th {\n",
              "        text-align: right;\n",
              "    }\n",
              "</style>\n",
              "<table border=\"1\" class=\"dataframe\">\n",
              "  <thead>\n",
              "    <tr style=\"text-align: right;\">\n",
              "      <th></th>\n",
              "      <th>total_vaccinations</th>\n",
              "      <th>total_distributed</th>\n",
              "      <th>people_vaccinated</th>\n",
              "      <th>people_fully_vaccinated_per_hundred</th>\n",
              "      <th>total_vaccinations_per_hundred</th>\n",
              "      <th>people_fully_vaccinated</th>\n",
              "      <th>people_vaccinated_per_hundred</th>\n",
              "      <th>distributed_per_hundred</th>\n",
              "      <th>daily_vaccinations_raw</th>\n",
              "      <th>daily_vaccinations</th>\n",
              "      <th>daily_vaccinations_per_million</th>\n",
              "      <th>share_doses_used</th>\n",
              "    </tr>\n",
              "  </thead>\n",
              "  <tbody>\n",
              "    <tr>\n",
              "      <th>count</th>\n",
              "      <td>7.878000e+03</td>\n",
              "      <td>7.747000e+03</td>\n",
              "      <td>7.735000e+03</td>\n",
              "      <td>7260.000000</td>\n",
              "      <td>7362.000000</td>\n",
              "      <td>7.653000e+03</td>\n",
              "      <td>7337.00000</td>\n",
              "      <td>7349.000000</td>\n",
              "      <td>8.083000e+03</td>\n",
              "      <td>8.083000e+03</td>\n",
              "      <td>7552.000000</td>\n",
              "      <td>7747.000000</td>\n",
              "    </tr>\n",
              "    <tr>\n",
              "      <th>mean</th>\n",
              "      <td>4.065853e+06</td>\n",
              "      <td>5.265809e+06</td>\n",
              "      <td>2.557398e+06</td>\n",
              "      <td>15.151172</td>\n",
              "      <td>38.762373</td>\n",
              "      <td>1.551882e+06</td>\n",
              "      <td>24.31409</td>\n",
              "      <td>52.035727</td>\n",
              "      <td>6.839717e+04</td>\n",
              "      <td>6.720646e+04</td>\n",
              "      <td>6202.969809</td>\n",
              "      <td>0.715817</td>\n",
              "    </tr>\n",
              "    <tr>\n",
              "      <th>std</th>\n",
              "      <td>1.873494e+07</td>\n",
              "      <td>2.423850e+07</td>\n",
              "      <td>1.168513e+07</td>\n",
              "      <td>11.781927</td>\n",
              "      <td>25.586672</td>\n",
              "      <td>7.722812e+06</td>\n",
              "      <td>14.69138</td>\n",
              "      <td>31.480798</td>\n",
              "      <td>2.869498e+05</td>\n",
              "      <td>2.733897e+05</td>\n",
              "      <td>2948.195674</td>\n",
              "      <td>0.149996</td>\n",
              "    </tr>\n",
              "    <tr>\n",
              "      <th>min</th>\n",
              "      <td>4.160000e+02</td>\n",
              "      <td>6.000000e+03</td>\n",
              "      <td>4.010000e+02</td>\n",
              "      <td>0.000000</td>\n",
              "      <td>0.170000</td>\n",
              "      <td>1.000000e+00</td>\n",
              "      <td>0.24000</td>\n",
              "      <td>6.140000</td>\n",
              "      <td>-4.453500e+04</td>\n",
              "      <td>-6.780000e+02</td>\n",
              "      <td>-499.000000</td>\n",
              "      <td>0.043000</td>\n",
              "    </tr>\n",
              "    <tr>\n",
              "      <th>25%</th>\n",
              "      <td>2.794162e+05</td>\n",
              "      <td>4.221500e+05</td>\n",
              "      <td>1.952275e+05</td>\n",
              "      <td>4.577500</td>\n",
              "      <td>15.975000</td>\n",
              "      <td>6.592800e+04</td>\n",
              "      <td>11.41000</td>\n",
              "      <td>21.880000</td>\n",
              "      <td>4.018500e+03</td>\n",
              "      <td>6.479500e+03</td>\n",
              "      <td>4040.500000</td>\n",
              "      <td>0.649000</td>\n",
              "    </tr>\n",
              "    <tr>\n",
              "      <th>50%</th>\n",
              "      <td>9.673035e+05</td>\n",
              "      <td>1.271990e+06</td>\n",
              "      <td>6.267010e+05</td>\n",
              "      <td>12.930000</td>\n",
              "      <td>35.445000</td>\n",
              "      <td>3.122400e+05</td>\n",
              "      <td>22.61000</td>\n",
              "      <td>48.110000</td>\n",
              "      <td>1.670400e+04</td>\n",
              "      <td>1.882600e+04</td>\n",
              "      <td>5974.000000</td>\n",
              "      <td>0.755000</td>\n",
              "    </tr>\n",
              "    <tr>\n",
              "      <th>75%</th>\n",
              "      <td>2.714834e+06</td>\n",
              "      <td>3.450202e+06</td>\n",
              "      <td>1.636262e+06</td>\n",
              "      <td>24.370000</td>\n",
              "      <td>59.260000</td>\n",
              "      <td>9.937900e+05</td>\n",
              "      <td>35.55000</td>\n",
              "      <td>78.830000</td>\n",
              "      <td>4.569900e+04</td>\n",
              "      <td>4.528650e+04</td>\n",
              "      <td>7949.000000</td>\n",
              "      <td>0.812000</td>\n",
              "    </tr>\n",
              "    <tr>\n",
              "      <th>max</th>\n",
              "      <td>2.735452e+08</td>\n",
              "      <td>3.445035e+08</td>\n",
              "      <td>1.574856e+08</td>\n",
              "      <td>55.660000</td>\n",
              "      <td>134.690000</td>\n",
              "      <td>1.232827e+08</td>\n",
              "      <td>84.87000</td>\n",
              "      <td>137.380000</td>\n",
              "      <td>4.629928e+06</td>\n",
              "      <td>3.384387e+06</td>\n",
              "      <td>71744.000000</td>\n",
              "      <td>1.201000</td>\n",
              "    </tr>\n",
              "  </tbody>\n",
              "</table>\n",
              "</div>"
            ],
            "text/plain": [
              "       total_vaccinations  ...  share_doses_used\n",
              "count        7.878000e+03  ...       7747.000000\n",
              "mean         4.065853e+06  ...          0.715817\n",
              "std          1.873494e+07  ...          0.149996\n",
              "min          4.160000e+02  ...          0.043000\n",
              "25%          2.794162e+05  ...          0.649000\n",
              "50%          9.673035e+05  ...          0.755000\n",
              "75%          2.714834e+06  ...          0.812000\n",
              "max          2.735452e+08  ...          1.201000\n",
              "\n",
              "[8 rows x 12 columns]"
            ]
          },
          "metadata": {
            "tags": []
          },
          "execution_count": 11
        }
      ]
    },
    {
      "cell_type": "code",
      "metadata": {
        "id": "HmioE7ziOZbm"
      },
      "source": [
        ""
      ],
      "execution_count": null,
      "outputs": []
    }
  ]
}